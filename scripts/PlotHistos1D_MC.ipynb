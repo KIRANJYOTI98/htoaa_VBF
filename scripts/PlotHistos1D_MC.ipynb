{
 "cells": [
  {
   "cell_type": "code",
   "execution_count": 1,
   "id": "980fc660",
   "metadata": {},
   "outputs": [
    {
     "data": {
      "text/html": [
       "<style>.container { width:100% !important; }</style>"
      ],
      "text/plain": [
       "<IPython.core.display.HTML object>"
      ]
     },
     "metadata": {},
     "output_type": "display_data"
    }
   ],
   "source": [
    "from IPython.display import display, HTML\n",
    "display(HTML(\"<style>.container { width:100% !important; }</style>\"))"
   ]
  },
  {
   "cell_type": "code",
   "execution_count": 2,
   "id": "be3e7851",
   "metadata": {},
   "outputs": [],
   "source": [
    "import os\n",
    "import numpy as np\n",
    "from collections import OrderedDict as OD\n",
    "#import uproot3\n",
    "import uproot\n",
    "import hist\n",
    "import matplotlib.pyplot as plt\n",
    "import mplhep as hep\n",
    "\n",
    "sIpFiles = OD([\n",
    "    # (<file name to refer>, <file path+name>)\n",
    "    ('analyze_hadded_QCD_HT100to200.root', '/home/siddhesh/Work/CMS/htoaa/analysis/20230324_QCD_HT100to200/analyze_hadded_QCD_HT100to200.root')\n",
    "])\n",
    "sOpDir  = '/home/siddhesh/Work/CMS/htoaa/analysis/20230324_QCD_HT100to200/plots'\n",
    "\n",
    "if not os.path.exists(sOpDir):\n",
    "    os.makedirs(sOpDir)\n",
    "    \n",
    "fIpFiles = OD()\n",
    "for sIpFileName, sIpFileNameFull in sIpFiles.items():\n",
    "    fIpFiles[sIpFileName] = uproot.open(sIpFileNameFull)"
   ]
  },
  {
   "cell_type": "code",
   "execution_count": 23,
   "id": "b7ab636b",
   "metadata": {},
   "outputs": [
    {
     "name": "stdout",
     "output_type": "stream",
     "text": [
      "plotNameNice: hLeadingPtGenBquark_pt_all\n",
      "iHistoToOverlay_details: 0\n",
      "\n",
      "sIpFileName_: analyze_hadded_QCD_HT100to200.root,  sHistogramName_: evt/QCD_bEnrich/hLeadingPtGenBquark_pt_all_central\n",
      "iHistoToOverlay_details: 1\n",
      "\n",
      "sIpFileName_: analyze_hadded_QCD_HT100to200.root,  sHistogramName_: evt/QCD_bGen/hLeadingPtGenBquark_pt_all_central\n"
     ]
    },
    {
     "ename": "TypeError",
     "evalue": "Can't be used on this type of object: odict_values([Hist(Regular(400, 0, 200, name='PtLow', label='pT (GEN B quark, leading pT) [GeV]'), storage=Weight()) # Sum: WeightedSum(value=6.68301e+10, variance=1.23657e+14), Hist(Regular(400, 0, 200, name='PtLow', label='pT (GEN B quark, leading pT) [GeV]'), storage=Weight()) # Sum: WeightedSum(value=4.2747e+10, variance=9.08726e+13)])",
     "output_type": "error",
     "traceback": [
      "\u001b[0;31m---------------------------------------------------------------------------\u001b[0m",
      "\u001b[0;31mTypeError\u001b[0m                                 Traceback (most recent call last)",
      "Cell \u001b[0;32mIn [23], line 104\u001b[0m\n\u001b[1;32m     96\u001b[0m fig, ax \u001b[38;5;241m=\u001b[39m plt\u001b[38;5;241m.\u001b[39msubplots(ncols\u001b[38;5;241m=\u001b[39m\u001b[38;5;241m1\u001b[39m, nrows\u001b[38;5;241m=\u001b[39m\u001b[38;5;241m2\u001b[39m, figsize\u001b[38;5;241m=\u001b[39m(\u001b[38;5;241m8\u001b[39m,\u001b[38;5;241m10\u001b[39m), sharex\u001b[38;5;241m=\u001b[39m\u001b[38;5;124m'\u001b[39m\u001b[38;5;124mcol\u001b[39m\u001b[38;5;124m'\u001b[39m, gridspec_kw\u001b[38;5;241m=\u001b[39m{\u001b[38;5;124m'\u001b[39m\u001b[38;5;124mheight_ratios\u001b[39m\u001b[38;5;124m'\u001b[39m: [\u001b[38;5;241m3\u001b[39m, \u001b[38;5;241m1\u001b[39m], \u001b[38;5;124m'\u001b[39m\u001b[38;5;124mhspace\u001b[39m\u001b[38;5;124m'\u001b[39m: \u001b[38;5;241m0\u001b[39m})\n\u001b[1;32m     98\u001b[0m \u001b[38;5;66;03m#print(f\"histosToOverlay[0].axes: {histosToOverlay[0].axes}\")\u001b[39;00m\n\u001b[1;32m     99\u001b[0m \u001b[38;5;66;03m#print(f\"\\nhistosToOverlay[0].axes[0].centers ({len(histosToOverlay[0].axes[0].centers)}): {histosToOverlay[0].axes[0].centers}\")\u001b[39;00m\n\u001b[1;32m    100\u001b[0m \u001b[38;5;66;03m#print(f\"\\nhistosToOverlay[0].axes[0].edges ({len(histosToOverlay[0].axes[0].edges)}): {histosToOverlay[0].axes[0].edges}\")\u001b[39;00m\n\u001b[1;32m    101\u001b[0m \u001b[38;5;66;03m#print(f\"\\n\\nhistosToOverlay[0].values() ({len(histosToOverlay[0].values())}): {histosToOverlay[0].values()}\")\u001b[39;00m\n\u001b[1;32m    102\u001b[0m \u001b[38;5;66;03m#hep.histplot(histosToOverlay[0].values(), bins=histosToOverlay[0].axes[0].centers, ax=ax[0], yerr=np.sqrt(histosToOverlay[0].variances()), histtype='errorbar', color='black', label='Data')\u001b[39;00m\n\u001b[1;32m    103\u001b[0m \u001b[38;5;66;03m#hep.histplot(histosToOverlay[0], ax=ax[0], yerr=np.sqrt(histosToOverlay[0].variances()), histtype='errorbar', color='black', label='Data')\u001b[39;00m\n\u001b[0;32m--> 104\u001b[0m \u001b[43mhep\u001b[49m\u001b[38;5;241;43m.\u001b[39;49m\u001b[43mhistplot\u001b[49m\u001b[43m(\u001b[49m\u001b[43mhistosToOverlay\u001b[49m\u001b[38;5;241;43m.\u001b[39;49m\u001b[43mvalues\u001b[49m\u001b[43m(\u001b[49m\u001b[43m)\u001b[49m\u001b[43m,\u001b[49m\u001b[43m \u001b[49m\u001b[43max\u001b[49m\u001b[38;5;241;43m=\u001b[39;49m\u001b[43max\u001b[49m\u001b[43m[\u001b[49m\u001b[38;5;241;43m0\u001b[39;49m\u001b[43m]\u001b[49m\u001b[43m,\u001b[49m\u001b[43m \u001b[49m\u001b[43mhisttype\u001b[49m\u001b[38;5;241;43m=\u001b[39;49m\u001b[38;5;124;43m'\u001b[39;49m\u001b[38;5;124;43merrorbar\u001b[39;49m\u001b[38;5;124;43m'\u001b[39;49m\u001b[43m)\u001b[49m\n\u001b[1;32m    105\u001b[0m \u001b[38;5;66;03m#if xAxisRange: ax[0].set_xlim(xAxisRange[0], xAxisRange[1])\u001b[39;00m\n\u001b[1;32m    106\u001b[0m \u001b[38;5;66;03m#if yAxisRange: ax[0].set_ylim(yAxisRange[0], yAxisRange[1])\u001b[39;00m\n\u001b[1;32m    107\u001b[0m \u001b[38;5;66;03m#if xAxisLabel: ax[0].set_xlabel(xAxisLabel)\u001b[39;00m\n\u001b[1;32m    108\u001b[0m \u001b[38;5;66;03m#if yAxisLabel: ax[0].set_ylabel(yAxisLabel)\u001b[39;00m\n\u001b[1;32m    111\u001b[0m \u001b[38;5;28;01mif\u001b[39;00m yAxisScale \u001b[38;5;241m==\u001b[39m \u001b[38;5;124m'\u001b[39m\u001b[38;5;124mlogY\u001b[39m\u001b[38;5;124m'\u001b[39m: ax[\u001b[38;5;241m0\u001b[39m]\u001b[38;5;241m.\u001b[39mset_yscale(\u001b[38;5;124m'\u001b[39m\u001b[38;5;124mlog\u001b[39m\u001b[38;5;124m'\u001b[39m, base\u001b[38;5;241m=\u001b[39m\u001b[38;5;241m10\u001b[39m)\n",
      "File \u001b[0;32m~/anaconda3/envs/ana_htoaa/lib/python3.10/site-packages/mplhep/plot.py:160\u001b[0m, in \u001b[0;36mhistplot\u001b[0;34m(H, bins, yerr, w2, w2method, stack, density, binwnorm, histtype, xerr, label, sort, edges, binticks, ax, **kwargs)\u001b[0m\n\u001b[1;32m    157\u001b[0m binticks \u001b[38;5;241m=\u001b[39m \u001b[38;5;28mbool\u001b[39m(binticks)\n\u001b[1;32m    159\u001b[0m \u001b[38;5;66;03m# Process input\u001b[39;00m\n\u001b[0;32m--> 160\u001b[0m hists \u001b[38;5;241m=\u001b[39m \u001b[38;5;28;43mlist\u001b[39;49m\u001b[43m(\u001b[49m\u001b[43mprocess_histogram_parts\u001b[49m\u001b[43m(\u001b[49m\u001b[43mH\u001b[49m\u001b[43m,\u001b[49m\u001b[43m \u001b[49m\u001b[43mbins\u001b[49m\u001b[43m)\u001b[49m\u001b[43m)\u001b[49m\n\u001b[1;32m    161\u001b[0m final_bins, xtick_labels \u001b[38;5;241m=\u001b[39m get_plottable_protocol_bins(hists[\u001b[38;5;241m0\u001b[39m]\u001b[38;5;241m.\u001b[39maxes[\u001b[38;5;241m0\u001b[39m])\n\u001b[1;32m    162\u001b[0m \u001b[38;5;28;01massert\u001b[39;00m final_bins\u001b[38;5;241m.\u001b[39mndim \u001b[38;5;241m==\u001b[39m \u001b[38;5;241m1\u001b[39m, \u001b[38;5;124m\"\u001b[39m\u001b[38;5;124mbins need to be 1 dimensional\u001b[39m\u001b[38;5;124m\"\u001b[39m\n",
      "File \u001b[0;32m~/anaconda3/envs/ana_htoaa/lib/python3.10/site-packages/mplhep/utils.py:108\u001b[0m, in \u001b[0;36m_process_histogram_parts_iter\u001b[0;34m(hists, *bins)\u001b[0m\n\u001b[1;32m    105\u001b[0m original_bins: \u001b[38;5;28mtuple\u001b[39m[Sequence[\u001b[38;5;28mfloat\u001b[39m], \u001b[38;5;241m.\u001b[39m\u001b[38;5;241m.\u001b[39m\u001b[38;5;241m.\u001b[39m] \u001b[38;5;241m=\u001b[39m bins  \u001b[38;5;66;03m# type: ignore[assignment]\u001b[39;00m\n\u001b[1;32m    107\u001b[0m \u001b[38;5;28;01mfor\u001b[39;00m hist \u001b[38;5;129;01min\u001b[39;00m hists:\n\u001b[0;32m--> 108\u001b[0m     h \u001b[38;5;241m=\u001b[39m \u001b[43mhist_object_handler\u001b[49m\u001b[43m(\u001b[49m\u001b[43mhist\u001b[49m\u001b[43m,\u001b[49m\u001b[43m \u001b[49m\u001b[38;5;241;43m*\u001b[39;49m\u001b[43mbins\u001b[49m\u001b[43m)\u001b[49m\n\u001b[1;32m    109\u001b[0m     current_bins: \u001b[38;5;28mtuple\u001b[39m[Sequence[\u001b[38;5;28mfloat\u001b[39m], \u001b[38;5;241m.\u001b[39m\u001b[38;5;241m.\u001b[39m\u001b[38;5;241m.\u001b[39m] \u001b[38;5;241m=\u001b[39m \u001b[38;5;28mtuple\u001b[39m(\n\u001b[1;32m    110\u001b[0m         get_plottable_protocol_bins(a)[\u001b[38;5;241m0\u001b[39m] \u001b[38;5;28;01mfor\u001b[39;00m a \u001b[38;5;129;01min\u001b[39;00m h\u001b[38;5;241m.\u001b[39maxes  \u001b[38;5;66;03m# type: ignore[misc]\u001b[39;00m\n\u001b[1;32m    111\u001b[0m     )\n\u001b[1;32m    112\u001b[0m     \u001b[38;5;28;01mif\u001b[39;00m \u001b[38;5;28many\u001b[39m(b \u001b[38;5;129;01mis\u001b[39;00m \u001b[38;5;28;01mNone\u001b[39;00m \u001b[38;5;28;01mfor\u001b[39;00m b \u001b[38;5;129;01min\u001b[39;00m original_bins):\n",
      "File \u001b[0;32m~/anaconda3/envs/ana_htoaa/lib/python3.10/site-packages/mplhep/utils.py:52\u001b[0m, in \u001b[0;36mhist_object_handler\u001b[0;34m(hist, *bins)\u001b[0m\n\u001b[1;32m     50\u001b[0m     \u001b[38;5;28;01melif\u001b[39;00m \u001b[38;5;28misinstance\u001b[39m(hist, np\u001b[38;5;241m.\u001b[39mndarray):\n\u001b[1;32m     51\u001b[0m         hist \u001b[38;5;241m=\u001b[39m (hist, \u001b[38;5;28;01mNone\u001b[39;00m)\n\u001b[0;32m---> 52\u001b[0m     hist_obj \u001b[38;5;241m=\u001b[39m \u001b[43mensure_plottable_histogram\u001b[49m\u001b[43m(\u001b[49m\u001b[43mhist\u001b[49m\u001b[43m)\u001b[49m\n\u001b[1;32m     53\u001b[0m \u001b[38;5;28;01melif\u001b[39;00m \u001b[38;5;28misinstance\u001b[39m(hist, PlottableHistogram):\n\u001b[1;32m     54\u001b[0m     \u001b[38;5;28;01mraise\u001b[39;00m \u001b[38;5;167;01mTypeError\u001b[39;00m(\u001b[38;5;124m\"\u001b[39m\u001b[38;5;124mCannot give bins with existing histogram\u001b[39m\u001b[38;5;124m\"\u001b[39m)\n",
      "File \u001b[0;32m~/anaconda3/envs/ana_htoaa/lib/python3.10/site-packages/uhi/numpy_plottable.py:393\u001b[0m, in \u001b[0;36mensure_plottable_histogram\u001b[0;34m(hist)\u001b[0m\n\u001b[1;32m    390\u001b[0m     \u001b[38;5;28;01mreturn\u001b[39;00m ROOTPlottableHistogram(hist)\n\u001b[1;32m    392\u001b[0m \u001b[38;5;28;01melse\u001b[39;00m:\n\u001b[0;32m--> 393\u001b[0m     \u001b[38;5;28;01mraise\u001b[39;00m \u001b[38;5;167;01mTypeError\u001b[39;00m(\u001b[38;5;124mf\u001b[39m\u001b[38;5;124m\"\u001b[39m\u001b[38;5;124mCan\u001b[39m\u001b[38;5;124m'\u001b[39m\u001b[38;5;124mt be used on this type of object: \u001b[39m\u001b[38;5;132;01m{\u001b[39;00mhist\u001b[38;5;132;01m!r}\u001b[39;00m\u001b[38;5;124m\"\u001b[39m)\n",
      "\u001b[0;31mTypeError\u001b[0m: Can't be used on this type of object: odict_values([Hist(Regular(400, 0, 200, name='PtLow', label='pT (GEN B quark, leading pT) [GeV]'), storage=Weight()) # Sum: WeightedSum(value=6.68301e+10, variance=1.23657e+14), Hist(Regular(400, 0, 200, name='PtLow', label='pT (GEN B quark, leading pT) [GeV]'), storage=Weight()) # Sum: WeightedSum(value=4.2747e+10, variance=9.08726e+13)])"
     ]
    },
    {
     "data": {
      "image/png": "[encoded data removed]",
      "text/plain": [
       "<Figure size 800x1000 with 2 Axes>"
      ]
     },
     "metadata": {},
     "output_type": "display_data"
    }
   ],
   "source": [
    "sXRange = \"xAxisRange\"; sYRange = \"yAxisRange\";\n",
    "sXLabel = 'xAxisLabel'; sYLabel = 'yAxisLabel';\n",
    "sHistosToOverlay = 'histosToOverlay'\n",
    "sHistosToHadd = 'histosToHadd'\n",
    "sIpFileNameNice = 'ipFileNameNice'\n",
    "sHistName   = 'histogramName'\n",
    "\n",
    "era = 2018\n",
    "luminosity = 59.83\n",
    "cmsWorkStatus='Work in Progress'\n",
    "\n",
    "histograms_dict = OD([\n",
    "    #(\"hLeadingPtGenBquark_pt_all\", {sXLabel: 'Leading FatJet mass [GeV]', sYLabel: 'Events', sXRange: [0, 200]}),\n",
    "    (\"hLeadingPtGenBquark_pt_all\", {\n",
    "        sXLabel: 'Leading FatJet mass [GeV]', sYLabel: 'Events',\n",
    "        sHistosToOverlay: [# [ [{histoToOverlay1}],  [{histoToOverlay2}], [{histoTohadd3p1}, {histoTohadd3p2}, ...], [{}], ...]\n",
    "            [\n",
    "                {sIpFileNameNice: 'analyze_hadded_QCD_HT100to200.root', sHistName: 'evt/QCD_bEnrich/hLeadingPtGenBquark_pt_all_central'},\n",
    "            ],\n",
    "            [\n",
    "                {sIpFileNameNice: 'analyze_hadded_QCD_HT100to200.root', sHistName: 'evt/QCD_bGen/hLeadingPtGenBquark_pt_all_central'}\n",
    "            ],\n",
    "        ]\n",
    "    }),\n",
    "    \n",
    "    \n",
    "])\n",
    "\n",
    "#systematics_list = ['central']\n",
    "\n",
    "for plotNameNice in histograms_dict.keys():\n",
    "    print(f\"plotNameNice: {plotNameNice}\")\n",
    "    \n",
    "    \n",
    "    \n",
    "    histosToOverlay = OD()\n",
    "    yAxisRange = [0, 0]\n",
    "    for iHistoToOverlay_details in range(len(histograms_dict[plotNameNice][sHistosToOverlay])):\n",
    "        print(f\"iHistoToOverlay_details: {iHistoToOverlay_details}\")\n",
    "        \n",
    "        histosToOverlay[iHistoToOverlay_details] = None\n",
    "        h_added = None\n",
    "        h = []\n",
    "        for iHistoToHadd in range(len(histograms_dict[plotNameNice][sHistosToOverlay][iHistoToOverlay_details])):\n",
    "            \n",
    "            sIpFileName_    = histograms_dict[plotNameNice][sHistosToOverlay][iHistoToOverlay_details][iHistoToHadd][sIpFileNameNice]\n",
    "            fIp_            = fIpFiles[sIpFileName_]\n",
    "            sHistogramName_ = histograms_dict[plotNameNice][sHistosToOverlay][iHistoToOverlay_details][iHistoToHadd][sHistName]\n",
    "            h_ = fIp_[sHistogramName_]\n",
    "            h1_ = h_.to_hist()\n",
    "            \n",
    "            print(f\"\\nsIpFileName_: {sIpFileName_},  sHistogramName_: {sHistogramName_}\")\n",
    "            '''\n",
    "            print(f\"h_ ({type(h_)}): {h_}\")\n",
    "            #print(f\"h1_ ({type(h1_)}): {h1_}\")\n",
    "            print(f\"h1_ ({type(h1_)})\")\n",
    "            print(f\"h1_.values() ({type(h1_.values())}) ({len(h1_.values())}) {h1_.values()}\")\n",
    "            print(f\"\\nh1_.variances() ({type(h1_.variances())}) ({len(h1_.variances())}) {h1_.variances()}\")\n",
    "            \n",
    "            print(f\"h1_.view() ({type(h1_.view())}) ({len(h1_.view())}): {h1_.view()}\")\n",
    "            '''\n",
    "            \n",
    "            h.append( h1_ )\n",
    "            \n",
    "            #if h_added == None:\n",
    "            if histosToOverlay[iHistoToOverlay_details] == None:\n",
    "                #h_added = h1_\n",
    "                histosToOverlay[iHistoToOverlay_details] = h1_\n",
    "            else:\n",
    "                #h_added = h_added + h1_\n",
    "                histosToOverlay[iHistoToOverlay_details] = histosToOverlay[iHistoToOverlay_details] + h1_\n",
    "                \n",
    "            #print(f\"\\n\\nh_added.view() ({type(h_added.view())}) ({len(h_added.view())}): {h_added.view()}\")\n",
    "            \n",
    "        yMin_ = np.amin( histosToOverlay[iHistoToOverlay_details].values() - np.sqrt(histosToOverlay[iHistoToOverlay_details].variances()) )\n",
    "        yMax_ = np.amin( histosToOverlay[iHistoToOverlay_details].values() + np.sqrt(histosToOverlay[iHistoToOverlay_details].variances()) )\n",
    "            \n",
    "        yAxisRange[0] = yMin_ if yMin_ < yAxisRange[0] else yAxisRange[0]\n",
    "        yAxisRange[1] = yMax_ if yMax_ > yAxisRange[1] else yAxisRange[1]\n",
    "        \n",
    "            \n",
    "        #print(f\"\\n\\n list(zip(h[0].values(), h[0].variances(),  h[1].values(), h[1].variances(), h_added.values(), h_added.variances())) : { list(zip(h[0].values(), h[0].variances(),  h[1].values(), h[1].variances(), histosToOverlay[iHistoToOverlay_details].values(), histosToOverlay[iHistoToOverlay_details].variances())) } \")\n",
    "        \n",
    "        #h_new = h[0] + 56\n",
    "        #print(f\"\\n\\n list(zip(h[0].values(), h[0].variances(),  h[1].values(), h[1].variances(),  h_new.values(), h_new.variances())) : { list(zip(h[0].values(), h[0].variances(),  h[1].values(), h[1].variances(),  h_new.values(), h_new.variances())) } \")\n",
    "        \n",
    "        \n",
    "        \n",
    "      \n",
    "    #hStack_list = [ hBkg_list[idx] for idx in idx_hBkg_sortedByIntegral ]  \n",
    "    #sStack_list = [ sBkg_list[idx] for idx in idx_hBkg_sortedByIntegral ]  \n",
    "\n",
    "    for yAxisScale in ['linearY', 'logY']: #['linearY', 'logY']: # ['linearY']\n",
    "        \n",
    "        #fig, axs = plt.subplots(ncols=1, nrows=2, figsize=(8,10), sharex='col', gridspec_kw={'height_ratios': [3, 1]}, subplot_kw={'ymargin': 0.4})\n",
    "        fig, ax = plt.subplots(ncols=1, nrows=2, figsize=(8,10), sharex='col', gridspec_kw={'height_ratios': [3, 1], 'hspace': 0})\n",
    "\n",
    "        #print(f\"histosToOverlay[0].axes: {histosToOverlay[0].axes}\")\n",
    "        #print(f\"\\nhistosToOverlay[0].axes[0].centers ({len(histosToOverlay[0].axes[0].centers)}): {histosToOverlay[0].axes[0].centers}\")\n",
    "        #print(f\"\\nhistosToOverlay[0].axes[0].edges ({len(histosToOverlay[0].axes[0].edges)}): {histosToOverlay[0].axes[0].edges}\")\n",
    "        #print(f\"\\n\\nhistosToOverlay[0].values() ({len(histosToOverlay[0].values())}): {histosToOverlay[0].values()}\")\n",
    "        #hep.histplot(histosToOverlay[0].values(), bins=histosToOverlay[0].axes[0].centers, ax=ax[0], yerr=np.sqrt(histosToOverlay[0].variances()), histtype='errorbar', color='black', label='Data')\n",
    "        #hep.histplot(histosToOverlay[0], ax=ax[0], yerr=np.sqrt(histosToOverlay[0].variances()), histtype='errorbar', color='black', label='Data')\n",
    "        hep.histplot(histosToOverlay.values(), ax=ax[0], histtype='errorbar')\n",
    "        #if xAxisRange: ax[0].set_xlim(xAxisRange[0], xAxisRange[1])\n",
    "        #if yAxisRange: ax[0].set_ylim(yAxisRange[0], yAxisRange[1])\n",
    "        #if xAxisLabel: ax[0].set_xlabel(xAxisLabel)\n",
    "        #if yAxisLabel: ax[0].set_ylabel(yAxisLabel)\n",
    "        \n",
    "        \n",
    "        if yAxisScale == 'logY': ax[0].set_yscale('log', base=10)\n",
    "        \n",
    "\n",
    "\n"
   ]
  },
  {
   "cell_type": "code",
   "execution_count": null,
   "id": "38bc237e",
   "metadata": {},
   "outputs": [],
   "source": []
  }
 ],
 "metadata": {
  "kernelspec": {
   "display_name": "Python 3 (ipykernel)",
   "language": "python",
   "name": "python3"
  },
  "language_info": {
   "codemirror_mode": {
    "name": "ipython",
    "version": 3
   },
   "file_extension": ".py",
   "mimetype": "text/x-python",
   "name": "python",
   "nbconvert_exporter": "python",
   "pygments_lexer": "ipython3",
   "version": "3.10.6"
  }
 },
 "nbformat": 4,
 "nbformat_minor": 5
}
